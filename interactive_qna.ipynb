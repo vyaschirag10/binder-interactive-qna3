{
 "cells": [
  {
   "cell_type": "markdown",
   "metadata": {},
   "source": ["# Binder-ready Interactive Q&A\n",
              "Type a question and get the most relevant answer from master.xlsx."]
  },
  {
   "cell_type": "code",
   "metadata": {},
   "source": [
    "import pandas as pd\n",
    "import numpy as np\n",
    "from sentence_transformers import SentenceTransformer\n",
    "from sklearn.metrics.pairwise import cosine_similarity\n",
    "import ipywidgets as widgets\n",
    "from IPython.display import display, clear_output\n",
    "\n",
    "# Load sheets\n",
    "file_path = 'master.xlsx'\n",
    "sheet_names = ['Deposit','CRM','CKYC','Advance','Locker','SVS','Teller','RTGS NEFT Bills BG','TXN related','Lien Related','Office AC','Others','VNDRINVC_SSAM','TDS Related','CERSAI']\n",
    "all_dfs = []\n",
    "xls = pd.ExcelFile(file_path)\n",
    "for sheet in sheet_names:\n",
    "    if sheet in xls.sheet_names:\n",
    "        temp_df = pd.read_excel(file_path, sheet_name=sheet)\n",
    "        temp_df.columns = [col.strip() for col in temp_df.columns]\n",
    "        required_columns = ['Question/Issue', 'Solution']\n",
    "        if all(col in temp_df.columns for col in required_columns):\n",
    "            temp_df['Sheet'] = sheet\n",
    "            all_dfs.append(temp_df)\n",
    "df = pd.concat(all_dfs, ignore_index=True)\n",
    "\n",
    "# Load model\n",
    "model = SentenceTransformer('paraphrase-MiniLM-L3-v2')\n",
    "\n",
    "# Semantic search func
