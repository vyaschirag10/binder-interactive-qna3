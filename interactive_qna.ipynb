# --- Imports ---
import pandas as pd
import numpy as np
from sentence_transformers import SentenceTransformer
from sklearn.metrics.pairwise import cosine_similarity
import ipywidgets as widgets
from IPython.display import display, clear_output

# --- Step 1: Load all sheets from Master Excel ---
file_path = 'master.xlsx'
sheet_names = ['Deposit', 'CRM', 'CKYC', 'Advance', 'Locker', 'SVS', 'Teller',
               'RTGS NEFT Bills BG', 'TXN related', 'Lien Related', 'Office AC',
               'Others', 'VNDRINVC_SSAM', 'TDS Related', 'CERSAI']

all_dfs = []

xls = pd.ExcelFile(file_path)
for sheet in sheet_names:
    if sheet in xls.sheet_names:
        temp_df = pd.read_excel(file_path, sheet_name=sheet)
        temp_df.columns = [col.strip() for col in temp_df.columns]
        required_columns = ['Question/Issue', 'Solution']
        if all(col in temp_df.columns for col in required_columns):
            temp_df['Sheet'] = sheet  # track source sheet
            all_dfs.append(temp_df)
        else:
            print(f"Sheet '{sheet}' missing required columns, skipping.")
    else:
        print(f"Sheet '{sheet}' not found in file.")

if not all_dfs:
    print("No valid sheets loaded. Please check your master.xlsx.")
else:
    df = pd.concat(all_dfs, ignore_index=True)
    print(f"Loaded total questions: {len(df)}")

# --- Step 2: Load smaller model for low RAM ---
model = SentenceTransformer('paraphrase-MiniLM-L3-v2')

# --- Step 3: Semantic search function ---
def get_solution(user_question, df, top_k=3):
    if df.empty:
        return ["Master file is empty."]
    
    # Compute embeddings for all questions
    df['embedding'] = df['Question/Issue'].astype(str).apply(lambda x: model.encode(x))
    user_emb = model.encode(user_question)
    embeddings = np.stack(df['embedding'].values)
    
    sims = cosine_similarity([user_emb], embeddings)[0]
    top_indices = sims.argsort()[-top_k:][::-1]
    
    solutions = []
    for idx in top_indices:
        solutions.append(f"{df.iloc[idx]['Solution']} (Sheet: {df.iloc[idx]['Sheet']})")
    return solutions

# --- Step 4: Interactive input ---
question_box = widgets.Text(
    description='Question:',
    placeholder='Type your question here'
)

output_box = widgets.Output()
submit_btn = widgets.Button(description='Get Solution', button_style='success')

def on_submit(b):
    with output_box:
        clear_output()
        question = question_box.value.strip()
        if not question:
            print("Please type a question.")
            return
        response = get_solution(question, df)
        for sol in response:
            print("-", sol)

submit_btn.on_click(on_submit)

display(question_box, submit_btn, output_box)
